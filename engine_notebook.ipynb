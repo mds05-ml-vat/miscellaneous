{
  "cells": [
    {
      "attachments": {},
      "cell_type": "markdown",
      "metadata": {},
      "source": [
        "# Machine Learning Assisted Backend on Google Collab\n",
        "\n",
        "## Prerequisite\n",
        "1. Change Runtime to GPU (Runtime -> Change runtime type -> GPU -> Save)\n",
        "2. Obtain access to [GitHub](https://github.com/Monash-Final-Year-Project/label-studio-ML.git) or clone the repository\n",
        "3. Obtain a ngrok auth token (you can sign up for a free account [here](https://ngrok.com/))\n",
        "4. Allow Google Drive to link to Google Collab (this is enabled by default)\n"
      ]
    },
    {
      "cell_type": "code",
      "execution_count": null,
      "metadata": {
        "colab": {
          "base_uri": "https://localhost:8080/"
        },
        "id": "MuNuUVbn7BMR",
        "outputId": "e2df1918-f31d-4cb1-d1c9-81351736ec94"
      },
      "outputs": [],
      "source": [
        "# allow collab to access drive to store repo and backend data\n",
        "from google.colab import drive\n",
        "drive.mount('/content/drive')"
      ]
    },
    {
      "cell_type": "code",
      "execution_count": null,
      "metadata": {},
      "outputs": [],
      "source": [
        "REPOSITORY_PATH = \"MyDrive/crime-scene-video-annotator\"\n",
        "NGROK_AUTH_TOKEN = \"add-token-here\""
      ]
    },
    {
      "cell_type": "code",
      "execution_count": null,
      "metadata": {},
      "outputs": [],
      "source": [
        "cd /content/drive/$REPOSITORY_PATH"
      ]
    },
    {
      "cell_type": "code",
      "execution_count": null,
      "metadata": {
        "colab": {
          "base_uri": "https://localhost:8080/"
        },
        "id": "AwQnT4qo9Beb",
        "outputId": "edae06b7-2f87-4a11-e1d4-e4f068afb9c3"
      },
      "outputs": [],
      "source": [
        "import os\n",
        "\n",
        "if os.path.isdir(\"label-studio-ML\"):\n",
        "    print(\"label-studio-ML already exists, pulling latest changes\")\n",
        "    os.chdir(\"label-studio-ML\")\n",
        "    os.system(\"git pull\")\n",
        "else:\n",
        "    print(\"label-studio-ML does not exist, cloning repository\")\n",
        "    os.system(\"git clone https://github.com/mds05-ml-vat/label-studio-ML.git\")\n",
        "    os.chdir(\"label-studio-ML\")\n",
        "\n",
        "print('done getting repo data')"
      ]
    },
    {
      "cell_type": "code",
      "execution_count": null,
      "metadata": {
        "colab": {
          "base_uri": "https://localhost:8080/"
        },
        "id": "RZLMNn9w8dcz",
        "outputId": "959a124e-0afe-4fb6-ca70-0303db238303"
      },
      "outputs": [],
      "source": [
        "# install needed packages\n",
        "!pip install -q -r requirements.txt\n",
        "!pip install -q -r yolov8_tracking/requirements.txt\n",
        "!pip install pyngrok -q"
      ]
    },
    {
      "cell_type": "code",
      "execution_count": null,
      "metadata": {
        "colab": {
          "base_uri": "https://localhost:8080/"
        },
        "id": "3fxXuj2IGEyE",
        "outputId": "442f7eac-b136-4cc1-f872-3ce4e9ccabf3"
      },
      "outputs": [],
      "source": [
        "# setting up ngrok to expose local port to public internet\n",
        "from pyngrok import ngrok\n",
        "\n",
        "ngrok.set_auth_token(NGROK_AUTH_TOKEN)\n",
        "ngrok.kill() # kill any previous sessions\n",
        "ssh_tunnel = ngrok.connect(9090, \"tcp\")\n",
        "print(ssh_tunnel)"
      ]
    },
    {
      "cell_type": "code",
      "execution_count": null,
      "metadata": {
        "colab": {
          "base_uri": "https://localhost:8080/"
        },
        "id": "I3ViBI0jKjDI",
        "outputId": "37ee34f8-a7c9-4dcd-a8a2-bbda95df43c4"
      },
      "outputs": [],
      "source": [
        "import torch\n",
        "cuda_enabled = torch.cuda.is_available()\n",
        "\n",
        "if not cuda_enabled:\n",
        "  print(\"CUDA is not enabled, you may experience slower performance ⌛\")\n",
        "else:\n",
        "  print('CUDA is available and setup 🥳')"
      ]
    },
    {
      "cell_type": "code",
      "execution_count": null,
      "metadata": {
        "colab": {
          "background_save": true,
          "base_uri": "https://localhost:8080/"
        },
        "id": "3P-8PURsBiw5",
        "outputId": "b2cd577a-6159-41f4-d199-4e2d0a03e80c"
      },
      "outputs": [],
      "source": [
        "!python _wsgi.py -p 9090 "
      ]
    }
  ],
  "metadata": {
    "accelerator": "GPU",
    "colab": {
      "provenance": []
    },
    "gpuClass": "standard",
    "kernelspec": {
      "display_name": "Python 3",
      "name": "python3"
    }
  },
  "nbformat": 4,
  "nbformat_minor": 0
}
